{
 "cells": [
  {
   "cell_type": "code",
   "execution_count": 1,
   "id": "5c2b506b-7b20-48f8-9b0e-04f55ea4056e",
   "metadata": {},
   "outputs": [],
   "source": [
    "import pandas as pd\n",
    "import numpy as np\n",
    "import requests\n",
    "import time\n",
    "from googleapiclient.discovery import build\n",
    "from IPython.display import JSON"
   ]
  },
  {
   "cell_type": "code",
   "execution_count": 2,
   "id": "3c09ace0-1a11-4556-a0ef-34b3bf89ab13",
   "metadata": {},
   "outputs": [],
   "source": [
    "api_key = \"\"\n",
    "\n",
    "# get credentials and create an API client\n",
    "youtube = build(\"youtube\", \"v3\", developerKey=api_key)"
   ]
  },
  {
   "cell_type": "code",
   "execution_count": 3,
   "id": "b33fb847-1145-4d54-acc8-6971b162b8c9",
   "metadata": {},
   "outputs": [],
   "source": [
    "channel_ids = [\"UCG8rbF3g2AMX70yOd8vqIZg\", # Logan Paul\n",
    "               \"UCLhvu_-py2eiC_yD17WLLNg\", # Learn & Play With Zack\n",
    "               \"UCAgx4HcQIYn9lM0rhtIuH9w\", # HZHtube Fun Kids\n",
    "              ]"
   ]
  },
  {
   "cell_type": "code",
   "execution_count": 4,
   "id": "bbd2670a-d354-494a-bc07-e6776da4382d",
   "metadata": {},
   "outputs": [],
   "source": [
    "request = youtube.channels().list(\n",
    "        part=\"snippet,contentDetails,statistics,topicDetails,status\",\n",
    "        id=','.join(channel_ids)\n",
    ")\n",
    "response = request.execute()"
   ]
  },
  {
   "cell_type": "code",
   "execution_count": 5,
   "id": "d4bb5cd3-9601-46df-b803-7889181546d4",
   "metadata": {},
   "outputs": [
    {
     "data": {
      "application/json": {
       "etag": "U-ljPRhHBcdh5vILihxG3qt7VeM",
       "items": [
        {
         "contentDetails": {
          "relatedPlaylists": {
           "likes": "",
           "uploads": "UUG8rbF3g2AMX70yOd8vqIZg"
          }
         },
         "etag": "R42WmMkyrvrfg8ELCTMpoUilEss",
         "id": "UCG8rbF3g2AMX70yOd8vqIZg",
         "kind": "youtube#channel",
         "snippet": {
          "country": "US",
          "customUrl": "@loganpaulvlogs",
          "description": "27 year old in Puerto Rico living life to the fullest\nJoin the movement and Be A Maverick: https://shoploganpaul.com/",
          "localized": {
           "description": "27 year old in Puerto Rico living life to the fullest\nJoin the movement and Be A Maverick: https://shoploganpaul.com/",
           "title": "Logan Paul"
          },
          "publishedAt": "2015-08-29T03:28:33Z",
          "thumbnails": {
           "default": {
            "height": 88,
            "url": "https://yt3.ggpht.com/ytc/AL5GRJUlB6G5d5XPPDl3_jtUoeJjpsxy4gpsjs8bEW7dkw=s88-c-k-c0x00ffffff-no-rj",
            "width": 88
           },
           "high": {
            "height": 800,
            "url": "https://yt3.ggpht.com/ytc/AL5GRJUlB6G5d5XPPDl3_jtUoeJjpsxy4gpsjs8bEW7dkw=s800-c-k-c0x00ffffff-no-rj",
            "width": 800
           },
           "medium": {
            "height": 240,
            "url": "https://yt3.ggpht.com/ytc/AL5GRJUlB6G5d5XPPDl3_jtUoeJjpsxy4gpsjs8bEW7dkw=s240-c-k-c0x00ffffff-no-rj",
            "width": 240
           }
          },
          "title": "Logan Paul"
         },
         "statistics": {
          "hiddenSubscriberCount": false,
          "subscriberCount": "23600000",
          "videoCount": "715",
          "viewCount": "5944653195"
         },
         "status": {
          "isLinked": true,
          "longUploadsStatus": "longUploadsUnspecified",
          "madeForKids": false,
          "privacyStatus": "public"
         },
         "topicDetails": {
          "topicCategories": [
           "https://en.wikipedia.org/wiki/Lifestyle_(sociology)",
           "https://en.wikipedia.org/wiki/Entertainment"
          ],
          "topicIds": [
           "/m/019_rr",
           "/m/02jjt"
          ]
         }
        },
        {
         "contentDetails": {
          "relatedPlaylists": {
           "likes": "",
           "uploads": "UULhvu_-py2eiC_yD17WLLNg"
          }
         },
         "etag": "S7PiwduIfPOjE3sFiz_clB4YWaw",
         "id": "UCLhvu_-py2eiC_yD17WLLNg",
         "kind": "youtube#channel",
         "snippet": {
          "country": "US",
          "customUrl": "@heidizidanezack",
          "description": "Welcome to Heidi Zidane and Zack Youtube Channel\nWe are 3 sibling who love to act and have fun \n",
          "localized": {
           "description": "Welcome to Heidi Zidane and Zack Youtube Channel\nWe are 3 sibling who love to act and have fun \n",
           "title": "Heidi Zidane and Zack"
          },
          "publishedAt": "2018-03-23T14:32:26Z",
          "thumbnails": {
           "default": {
            "height": 88,
            "url": "https://yt3.ggpht.com/4jyZEU3twnIfgGs72m07C2R_xPgMcLpL9OriA9LaRI5_OQEvcNjOnrsrsbdGyD-_D614CKuC=s88-c-k-c0x00ffffff-no-rj",
            "width": 88
           },
           "high": {
            "height": 800,
            "url": "https://yt3.ggpht.com/4jyZEU3twnIfgGs72m07C2R_xPgMcLpL9OriA9LaRI5_OQEvcNjOnrsrsbdGyD-_D614CKuC=s800-c-k-c0x00ffffff-no-rj",
            "width": 800
           },
           "medium": {
            "height": 240,
            "url": "https://yt3.ggpht.com/4jyZEU3twnIfgGs72m07C2R_xPgMcLpL9OriA9LaRI5_OQEvcNjOnrsrsbdGyD-_D614CKuC=s240-c-k-c0x00ffffff-no-rj",
            "width": 240
           }
          },
          "title": "Heidi Zidane and Zack"
         },
         "statistics": {
          "hiddenSubscriberCount": false,
          "subscriberCount": "1340000",
          "videoCount": "342",
          "viewCount": "200246680"
         },
         "status": {
          "isLinked": true,
          "longUploadsStatus": "longUploadsUnspecified",
          "privacyStatus": "public"
         },
         "topicDetails": {
          "topicCategories": [
           "https://en.wikipedia.org/wiki/Lifestyle_(sociology)",
           "https://en.wikipedia.org/wiki/Hobby"
          ],
          "topicIds": [
           "/m/019_rr",
           "/m/03glg"
          ]
         }
        },
        {
         "contentDetails": {
          "relatedPlaylists": {
           "likes": "",
           "uploads": "UUAgx4HcQIYn9lM0rhtIuH9w"
          }
         },
         "etag": "tnJRWrB57TBgWTOcLijllF4Ulm8",
         "id": "UCAgx4HcQIYn9lM0rhtIuH9w",
         "kind": "youtube#channel",
         "snippet": {
          "country": "CA",
          "customUrl": "@hzhtubekidsfun",
          "defaultLanguage": "en",
          "description": "",
          "localized": {
           "description": "",
           "title": "Heidi and Zidane HZHtube"
          },
          "publishedAt": "2015-11-24T19:25:04Z",
          "thumbnails": {
           "default": {
            "height": 88,
            "url": "https://yt3.ggpht.com/RfenCfppex2Qqg7eEFLi_u36PqZMb5rjJ_-h4n2LsZGiEd0cAD8NIacLiV-ujH8U2aBH73tVc2Y=s88-c-k-c0x00ffffff-no-rj",
            "width": 88
           },
           "high": {
            "height": 800,
            "url": "https://yt3.ggpht.com/RfenCfppex2Qqg7eEFLi_u36PqZMb5rjJ_-h4n2LsZGiEd0cAD8NIacLiV-ujH8U2aBH73tVc2Y=s800-c-k-c0x00ffffff-no-rj",
            "width": 800
           },
           "medium": {
            "height": 240,
            "url": "https://yt3.ggpht.com/RfenCfppex2Qqg7eEFLi_u36PqZMb5rjJ_-h4n2LsZGiEd0cAD8NIacLiV-ujH8U2aBH73tVc2Y=s240-c-k-c0x00ffffff-no-rj",
            "width": 240
           }
          },
          "title": "Heidi and Zidane HZHtube"
         },
         "statistics": {
          "hiddenSubscriberCount": false,
          "subscriberCount": "12400000",
          "videoCount": "686",
          "viewCount": "3607762032"
         },
         "status": {
          "isLinked": true,
          "longUploadsStatus": "longUploadsUnspecified",
          "privacyStatus": "public"
         },
         "topicDetails": {
          "topicCategories": [
           "https://en.wikipedia.org/wiki/Lifestyle_(sociology)",
           "https://en.wikipedia.org/wiki/Hobby"
          ],
          "topicIds": [
           "/m/019_rr",
           "/m/03glg"
          ]
         }
        }
       ],
       "kind": "youtube#channelListResponse",
       "pageInfo": {
        "resultsPerPage": 5,
        "totalResults": 3
       }
      },
      "text/plain": [
       "<IPython.core.display.JSON object>"
      ]
     },
     "execution_count": 5,
     "metadata": {
      "application/json": {
       "expanded": false,
       "root": "root"
      }
     },
     "output_type": "execute_result"
    }
   ],
   "source": [
    "JSON(response)"
   ]
  },
  {
   "cell_type": "code",
   "execution_count": 6,
   "id": "0e9b26ad-9f99-4f47-ab59-2b2ba6f9f0ce",
   "metadata": {},
   "outputs": [],
   "source": [
    "def get_channel_data(youtube, channel_ids):\n",
    "    \n",
    "    request = youtube.channels().list(\n",
    "        part=\"snippet,contentDetails,statistics,topicDetails,status\",\n",
    "        id=','.join(channel_ids)\n",
    "    )\n",
    "    response = request.execute()\n",
    "    \n",
    "    all_data = []\n",
    "    \n",
    "    for i in range(len(channel_ids)):\n",
    "    \n",
    "        channel = response['items'][i]\n",
    "\n",
    "        channel_data = {\n",
    "            'channel_id': channel['id'],\n",
    "            'channel_name': channel['snippet']['title'],\n",
    "            'channel_desc': channel['snippet']['description'],\n",
    "            'channel_start_date': channel['snippet']['publishedAt'],\n",
    "            'total_views': channel['statistics']['viewCount'],\n",
    "            'total_subscribers': channel['statistics']['subscriberCount'],\n",
    "            'total_videos_posted': channel['statistics']['videoCount']\n",
    "        }\n",
    "        \n",
    "        try:\n",
    "            channel_data['channel_topic'] = channel['topicDetails']['topicCategories']\n",
    "        except:\n",
    "            channel_data['channel_topic'] = None\n",
    "        \n",
    "        all_data.append(channel_data)\n",
    "        \n",
    "    return pd.DataFrame(all_data)\n",
    "        "
   ]
  },
  {
   "cell_type": "code",
   "execution_count": 7,
   "id": "a43468ea-1bae-4e3f-bbeb-4ddbffd6dc03",
   "metadata": {},
   "outputs": [
    {
     "data": {
      "text/html": [
       "<div>\n",
       "<style scoped>\n",
       "    .dataframe tbody tr th:only-of-type {\n",
       "        vertical-align: middle;\n",
       "    }\n",
       "\n",
       "    .dataframe tbody tr th {\n",
       "        vertical-align: top;\n",
       "    }\n",
       "\n",
       "    .dataframe thead th {\n",
       "        text-align: right;\n",
       "    }\n",
       "</style>\n",
       "<table border=\"1\" class=\"dataframe\">\n",
       "  <thead>\n",
       "    <tr style=\"text-align: right;\">\n",
       "      <th></th>\n",
       "      <th>channel_id</th>\n",
       "      <th>channel_name</th>\n",
       "      <th>channel_desc</th>\n",
       "      <th>channel_start_date</th>\n",
       "      <th>total_views</th>\n",
       "      <th>total_subscribers</th>\n",
       "      <th>total_videos_posted</th>\n",
       "      <th>channel_topic</th>\n",
       "    </tr>\n",
       "  </thead>\n",
       "  <tbody>\n",
       "    <tr>\n",
       "      <th>0</th>\n",
       "      <td>UCG8rbF3g2AMX70yOd8vqIZg</td>\n",
       "      <td>Logan Paul</td>\n",
       "      <td>27 year old in Puerto Rico living life to the ...</td>\n",
       "      <td>2015-08-29T03:28:33Z</td>\n",
       "      <td>5944653195</td>\n",
       "      <td>23600000</td>\n",
       "      <td>715</td>\n",
       "      <td>[https://en.wikipedia.org/wiki/Entertainment, ...</td>\n",
       "    </tr>\n",
       "    <tr>\n",
       "      <th>1</th>\n",
       "      <td>UCLhvu_-py2eiC_yD17WLLNg</td>\n",
       "      <td>Heidi Zidane and Zack</td>\n",
       "      <td>Welcome to Heidi Zidane and Zack Youtube Chann...</td>\n",
       "      <td>2018-03-23T14:32:26Z</td>\n",
       "      <td>200246680</td>\n",
       "      <td>1340000</td>\n",
       "      <td>342</td>\n",
       "      <td>[https://en.wikipedia.org/wiki/Hobby, https://...</td>\n",
       "    </tr>\n",
       "    <tr>\n",
       "      <th>2</th>\n",
       "      <td>UCAgx4HcQIYn9lM0rhtIuH9w</td>\n",
       "      <td>Heidi and Zidane HZHtube</td>\n",
       "      <td></td>\n",
       "      <td>2015-11-24T19:25:04Z</td>\n",
       "      <td>3607762032</td>\n",
       "      <td>12400000</td>\n",
       "      <td>686</td>\n",
       "      <td>[https://en.wikipedia.org/wiki/Hobby, https://...</td>\n",
       "    </tr>\n",
       "  </tbody>\n",
       "</table>\n",
       "</div>"
      ],
      "text/plain": [
       "                 channel_id              channel_name  \\\n",
       "0  UCG8rbF3g2AMX70yOd8vqIZg                Logan Paul   \n",
       "1  UCLhvu_-py2eiC_yD17WLLNg     Heidi Zidane and Zack   \n",
       "2  UCAgx4HcQIYn9lM0rhtIuH9w  Heidi and Zidane HZHtube   \n",
       "\n",
       "                                        channel_desc    channel_start_date  \\\n",
       "0  27 year old in Puerto Rico living life to the ...  2015-08-29T03:28:33Z   \n",
       "1  Welcome to Heidi Zidane and Zack Youtube Chann...  2018-03-23T14:32:26Z   \n",
       "2                                                     2015-11-24T19:25:04Z   \n",
       "\n",
       "  total_views total_subscribers total_videos_posted  \\\n",
       "0  5944653195          23600000                 715   \n",
       "1   200246680           1340000                 342   \n",
       "2  3607762032          12400000                 686   \n",
       "\n",
       "                                       channel_topic  \n",
       "0  [https://en.wikipedia.org/wiki/Entertainment, ...  \n",
       "1  [https://en.wikipedia.org/wiki/Hobby, https://...  \n",
       "2  [https://en.wikipedia.org/wiki/Hobby, https://...  "
      ]
     },
     "execution_count": 7,
     "metadata": {},
     "output_type": "execute_result"
    }
   ],
   "source": [
    "get_channel_data(youtube, channel_ids)"
   ]
  },
  {
   "cell_type": "markdown",
   "id": "534ec55b-cc9b-4601-916d-124e9f90071b",
   "metadata": {},
   "source": [
    "### Most Popular Videos"
   ]
  },
  {
   "cell_type": "code",
   "execution_count": 8,
   "id": "bf7a7738-aa49-42ef-b7b5-ff3849a5c8fb",
   "metadata": {},
   "outputs": [],
   "source": [
    "def get_most_popular_videos(youtube):\n",
    "    \n",
    "    request = youtube.videos().list(\n",
    "        part=\"snippet,contentDetails,status,statistics,topicDetails\",\n",
    "        chart=\"mostPopular\",\n",
    "        regionCode=\"US\",\n",
    "        maxResults = 50\n",
    "    )\n",
    "    response = request.execute()\n",
    "\n",
    "    all_data = []\n",
    "\n",
    "    for i in range(50):\n",
    "        video = response['items'][i]\n",
    "\n",
    "        video_data = {\n",
    "            'video_id': video['id'],\n",
    "            'channel_id': video['snippet']['channelId'],\n",
    "            'video_posting_date': video['snippet']['publishedAt'],\n",
    "            'video_title': video['snippet']['title'],\n",
    "            'video_desc': video['snippet']['description'],\n",
    "            'video_length': video['contentDetails']['duration'],\n",
    "            'made_for_kids': video['status']['madeForKids'],\n",
    "            'video_views': video['statistics']['viewCount'],\n",
    "            'video_comments': video['statistics']['commentCount']\n",
    "        }\n",
    "\n",
    "        try:\n",
    "            video_data['video_topic'] = video['topicDetails']['topicCategories']\n",
    "            video_data['video_likes'] = video['statistics']['likeCount']\n",
    "        except:\n",
    "            video_data['video_topic'] = None\n",
    "            video_data['video_likes'] = None\n",
    "        all_data.append(video_data)\n",
    "    \n",
    "    return pd.DataFrame(all_data)"
   ]
  },
  {
   "cell_type": "code",
   "execution_count": 9,
   "id": "127d0e52-03d7-41af-95bb-33c751611e3b",
   "metadata": {},
   "outputs": [
    {
     "data": {
      "text/html": [
       "<div>\n",
       "<style scoped>\n",
       "    .dataframe tbody tr th:only-of-type {\n",
       "        vertical-align: middle;\n",
       "    }\n",
       "\n",
       "    .dataframe tbody tr th {\n",
       "        vertical-align: top;\n",
       "    }\n",
       "\n",
       "    .dataframe thead th {\n",
       "        text-align: right;\n",
       "    }\n",
       "</style>\n",
       "<table border=\"1\" class=\"dataframe\">\n",
       "  <thead>\n",
       "    <tr style=\"text-align: right;\">\n",
       "      <th></th>\n",
       "      <th>video_id</th>\n",
       "      <th>channel_id</th>\n",
       "      <th>video_posting_date</th>\n",
       "      <th>video_title</th>\n",
       "      <th>video_desc</th>\n",
       "      <th>video_length</th>\n",
       "      <th>made_for_kids</th>\n",
       "      <th>video_views</th>\n",
       "      <th>video_comments</th>\n",
       "      <th>video_topic</th>\n",
       "      <th>video_likes</th>\n",
       "    </tr>\n",
       "  </thead>\n",
       "  <tbody>\n",
       "    <tr>\n",
       "      <th>0</th>\n",
       "      <td>vT58GKZpXNs</td>\n",
       "      <td>UC2mP7il3YV7TxM_3m6U0bwA</td>\n",
       "      <td>2023-01-31T21:00:21Z</td>\n",
       "      <td>Ranking Your INSANE Tiktoks</td>\n",
       "      <td>Try Rocket Money for free! https://rocketmoney...</td>\n",
       "      <td>PT29M7S</td>\n",
       "      <td>False</td>\n",
       "      <td>1136645</td>\n",
       "      <td>4340</td>\n",
       "      <td>[https://en.wikipedia.org/wiki/Humour, https:/...</td>\n",
       "      <td>100830</td>\n",
       "    </tr>\n",
       "    <tr>\n",
       "      <th>1</th>\n",
       "      <td>5jxyH6GYLsk</td>\n",
       "      <td>UC4PQqjGczpgmqbpicKjkwvw</td>\n",
       "      <td>2023-01-31T20:00:07Z</td>\n",
       "      <td>Coulda Been Records LA Auditions hosted by Druski</td>\n",
       "      <td>Here’s your chance to join me live on stage fo...</td>\n",
       "      <td>PT34M48S</td>\n",
       "      <td>False</td>\n",
       "      <td>471773</td>\n",
       "      <td>1971</td>\n",
       "      <td>[https://en.wikipedia.org/wiki/Entertainment, ...</td>\n",
       "      <td>24274</td>\n",
       "    </tr>\n",
       "    <tr>\n",
       "      <th>2</th>\n",
       "      <td>qMXESlny4-I</td>\n",
       "      <td>UCDE5Ezmxq1bNVak4lmkpCMw</td>\n",
       "      <td>2023-01-31T14:59:47Z</td>\n",
       "      <td>Falling In Reverse - \"Watch The World Burn\"</td>\n",
       "      <td>\"Watch The World Burn\" by @FallingInReverse \\n...</td>\n",
       "      <td>PT3M24S</td>\n",
       "      <td>False</td>\n",
       "      <td>995247</td>\n",
       "      <td>7981</td>\n",
       "      <td>[https://en.wikipedia.org/wiki/Music, https://...</td>\n",
       "      <td>90351</td>\n",
       "    </tr>\n",
       "    <tr>\n",
       "      <th>3</th>\n",
       "      <td>6ayJjfyRRkc</td>\n",
       "      <td>UCR_J_SntqJh5eXw66d5hJxA</td>\n",
       "      <td>2023-01-31T23:53:05Z</td>\n",
       "      <td>I Challenged iShowSpeed to a 1v1 Soccer Game!</td>\n",
       "      <td>I built @IShowSpeed a custom Cristiano Ronaldo...</td>\n",
       "      <td>PT8M37S</td>\n",
       "      <td>False</td>\n",
       "      <td>1170349</td>\n",
       "      <td>2494</td>\n",
       "      <td>[https://en.wikipedia.org/wiki/Association_foo...</td>\n",
       "      <td>33791</td>\n",
       "    </tr>\n",
       "    <tr>\n",
       "      <th>4</th>\n",
       "      <td>JT-Kh5iknkE</td>\n",
       "      <td>UCnmGIkw-KdI0W5siakKPKog</td>\n",
       "      <td>2023-01-31T15:00:12Z</td>\n",
       "      <td>I Excavated a Fossil Site</td>\n",
       "      <td>digging for dinosaurs is fun\\nread my full sto...</td>\n",
       "      <td>PT9M51S</td>\n",
       "      <td>False</td>\n",
       "      <td>2076786</td>\n",
       "      <td>4460</td>\n",
       "      <td>[https://en.wikipedia.org/wiki/Lifestyle_(soci...</td>\n",
       "      <td>100127</td>\n",
       "    </tr>\n",
       "  </tbody>\n",
       "</table>\n",
       "</div>"
      ],
      "text/plain": [
       "      video_id                channel_id    video_posting_date  \\\n",
       "0  vT58GKZpXNs  UC2mP7il3YV7TxM_3m6U0bwA  2023-01-31T21:00:21Z   \n",
       "1  5jxyH6GYLsk  UC4PQqjGczpgmqbpicKjkwvw  2023-01-31T20:00:07Z   \n",
       "2  qMXESlny4-I  UCDE5Ezmxq1bNVak4lmkpCMw  2023-01-31T14:59:47Z   \n",
       "3  6ayJjfyRRkc  UCR_J_SntqJh5eXw66d5hJxA  2023-01-31T23:53:05Z   \n",
       "4  JT-Kh5iknkE  UCnmGIkw-KdI0W5siakKPKog  2023-01-31T15:00:12Z   \n",
       "\n",
       "                                         video_title  \\\n",
       "0                        Ranking Your INSANE Tiktoks   \n",
       "1  Coulda Been Records LA Auditions hosted by Druski   \n",
       "2        Falling In Reverse - \"Watch The World Burn\"   \n",
       "3      I Challenged iShowSpeed to a 1v1 Soccer Game!   \n",
       "4                          I Excavated a Fossil Site   \n",
       "\n",
       "                                          video_desc video_length  \\\n",
       "0  Try Rocket Money for free! https://rocketmoney...      PT29M7S   \n",
       "1  Here’s your chance to join me live on stage fo...     PT34M48S   \n",
       "2  \"Watch The World Burn\" by @FallingInReverse \\n...      PT3M24S   \n",
       "3  I built @IShowSpeed a custom Cristiano Ronaldo...      PT8M37S   \n",
       "4  digging for dinosaurs is fun\\nread my full sto...      PT9M51S   \n",
       "\n",
       "   made_for_kids video_views video_comments  \\\n",
       "0          False     1136645           4340   \n",
       "1          False      471773           1971   \n",
       "2          False      995247           7981   \n",
       "3          False     1170349           2494   \n",
       "4          False     2076786           4460   \n",
       "\n",
       "                                         video_topic video_likes  \n",
       "0  [https://en.wikipedia.org/wiki/Humour, https:/...      100830  \n",
       "1  [https://en.wikipedia.org/wiki/Entertainment, ...       24274  \n",
       "2  [https://en.wikipedia.org/wiki/Music, https://...       90351  \n",
       "3  [https://en.wikipedia.org/wiki/Association_foo...       33791  \n",
       "4  [https://en.wikipedia.org/wiki/Lifestyle_(soci...      100127  "
      ]
     },
     "execution_count": 9,
     "metadata": {},
     "output_type": "execute_result"
    }
   ],
   "source": [
    "popular_videos = get_most_popular_videos(youtube)\n",
    "popular_videos.head()"
   ]
  },
  {
   "cell_type": "code",
   "execution_count": null,
   "id": "1f31ad2a-3f46-493c-a8c2-4168bda93ef3",
   "metadata": {},
   "outputs": [],
   "source": []
  }
 ],
 "metadata": {
  "kernelspec": {
   "display_name": "Python 3 (ipykernel)",
   "language": "python",
   "name": "python3"
  },
  "language_info": {
   "codemirror_mode": {
    "name": "ipython",
    "version": 3
   },
   "file_extension": ".py",
   "mimetype": "text/x-python",
   "name": "python",
   "nbconvert_exporter": "python",
   "pygments_lexer": "ipython3",
   "version": "3.9.11"
  }
 },
 "nbformat": 4,
 "nbformat_minor": 5
}
