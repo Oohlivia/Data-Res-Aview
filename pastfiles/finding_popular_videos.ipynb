{
 "cells": [
  {
   "cell_type": "code",
   "execution_count": 6,
   "id": "5c2b506b-7b20-48f8-9b0e-04f55ea4056e",
   "metadata": {},
   "outputs": [],
   "source": [
    "import pandas as pd\n",
    "import numpy as np\n",
    "import requests\n",
    "import time\n",
    "from googleapiclient.discovery import build\n",
    "from IPython.display import JSON"
   ]
  },
  {
   "cell_type": "code",
   "execution_count": 13,
   "id": "3c09ace0-1a11-4556-a0ef-34b3bf89ab13",
   "metadata": {},
   "outputs": [],
   "source": [
    "api_key = \"\"\n",
    "\n",
    "# get credentials and create an API client\n",
    "youtube = build(\"youtube\", \"v3\", developerKey=api_key)"
   ]
  },
  {
   "cell_type": "code",
   "execution_count": 14,
   "id": "b33fb847-1145-4d54-acc8-6971b162b8c9",
   "metadata": {},
   "outputs": [],
   "source": [
    "channel_ids = [\"UCG8rbF3g2AMX70yOd8vqIZg\", # Logan Paul\n",
    "               \"UCLhvu_-py2eiC_yD17WLLNg\", # Learn & Play With Zack\n",
    "               \"UCAgx4HcQIYn9lM0rhtIuH9w\", # HZHtube Fun Kids\n",
    "              ]"
   ]
  },
  {
   "cell_type": "code",
   "execution_count": 15,
   "id": "bbd2670a-d354-494a-bc07-e6776da4382d",
   "metadata": {},
   "outputs": [],
   "source": [
    "request = youtube.channels().list(\n",
    "        part=\"snippet,contentDetails,statistics,topicDetails,status\",\n",
    "        id=','.join(channel_ids)\n",
    ")\n",
    "response = request.execute()"
   ]
  },
  {
   "cell_type": "code",
   "execution_count": 16,
   "id": "d4bb5cd3-9601-46df-b803-7889181546d4",
   "metadata": {},
   "outputs": [
    {
     "data": {
      "application/json": {
       "etag": "35vDI9So-5Y0gREL_ge4HlfA7Uc",
       "items": [
        {
         "contentDetails": {
          "relatedPlaylists": {
           "likes": "",
           "uploads": "UULhvu_-py2eiC_yD17WLLNg"
          }
         },
         "etag": "o4zxe8o7ADpCCOpehiLbFUkCBYs",
         "id": "UCLhvu_-py2eiC_yD17WLLNg",
         "kind": "youtube#channel",
         "snippet": {
          "country": "US",
          "customUrl": "@heidizidanezack",
          "description": "Welcome to Heidi Zidane and Zack Youtube Channel\nWe are 3 sibling who love to act and have fun \n",
          "localized": {
           "description": "Welcome to Heidi Zidane and Zack Youtube Channel\nWe are 3 sibling who love to act and have fun \n",
           "title": "Heidi Zidane and Zack"
          },
          "publishedAt": "2018-03-23T14:32:26Z",
          "thumbnails": {
           "default": {
            "height": 88,
            "url": "https://yt3.ggpht.com/4jyZEU3twnIfgGs72m07C2R_xPgMcLpL9OriA9LaRI5_OQEvcNjOnrsrsbdGyD-_D614CKuC=s88-c-k-c0x00ffffff-no-rj",
            "width": 88
           },
           "high": {
            "height": 800,
            "url": "https://yt3.ggpht.com/4jyZEU3twnIfgGs72m07C2R_xPgMcLpL9OriA9LaRI5_OQEvcNjOnrsrsbdGyD-_D614CKuC=s800-c-k-c0x00ffffff-no-rj",
            "width": 800
           },
           "medium": {
            "height": 240,
            "url": "https://yt3.ggpht.com/4jyZEU3twnIfgGs72m07C2R_xPgMcLpL9OriA9LaRI5_OQEvcNjOnrsrsbdGyD-_D614CKuC=s240-c-k-c0x00ffffff-no-rj",
            "width": 240
           }
          },
          "title": "Heidi Zidane and Zack"
         },
         "statistics": {
          "hiddenSubscriberCount": false,
          "subscriberCount": "1360000",
          "videoCount": "373",
          "viewCount": "203726997"
         },
         "status": {
          "isLinked": true,
          "longUploadsStatus": "longUploadsUnspecified",
          "privacyStatus": "public"
         },
         "topicDetails": {
          "topicCategories": [
           "https://en.wikipedia.org/wiki/Lifestyle_(sociology)",
           "https://en.wikipedia.org/wiki/Hobby"
          ],
          "topicIds": [
           "/m/019_rr",
           "/m/03glg"
          ]
         }
        },
        {
         "contentDetails": {
          "relatedPlaylists": {
           "likes": "",
           "uploads": "UUAgx4HcQIYn9lM0rhtIuH9w"
          }
         },
         "etag": "4Divh0i-2IpZ5mEshXtqHmLV84g",
         "id": "UCAgx4HcQIYn9lM0rhtIuH9w",
         "kind": "youtube#channel",
         "snippet": {
          "country": "CA",
          "customUrl": "@hzhtubekidsfun",
          "defaultLanguage": "en",
          "description": "",
          "localized": {
           "description": "",
           "title": "Heidi and Zidane HZHtube"
          },
          "publishedAt": "2015-11-24T19:25:04Z",
          "thumbnails": {
           "default": {
            "height": 88,
            "url": "https://yt3.ggpht.com/RfenCfppex2Qqg7eEFLi_u36PqZMb5rjJ_-h4n2LsZGiEd0cAD8NIacLiV-ujH8U2aBH73tVc2Y=s88-c-k-c0x00ffffff-no-rj",
            "width": 88
           },
           "high": {
            "height": 800,
            "url": "https://yt3.ggpht.com/RfenCfppex2Qqg7eEFLi_u36PqZMb5rjJ_-h4n2LsZGiEd0cAD8NIacLiV-ujH8U2aBH73tVc2Y=s800-c-k-c0x00ffffff-no-rj",
            "width": 800
           },
           "medium": {
            "height": 240,
            "url": "https://yt3.ggpht.com/RfenCfppex2Qqg7eEFLi_u36PqZMb5rjJ_-h4n2LsZGiEd0cAD8NIacLiV-ujH8U2aBH73tVc2Y=s240-c-k-c0x00ffffff-no-rj",
            "width": 240
           }
          },
          "title": "Heidi and Zidane HZHtube"
         },
         "statistics": {
          "hiddenSubscriberCount": false,
          "subscriberCount": "12400000",
          "videoCount": "750",
          "viewCount": "3998110674"
         },
         "status": {
          "isLinked": true,
          "longUploadsStatus": "longUploadsUnspecified",
          "privacyStatus": "public"
         },
         "topicDetails": {
          "topicCategories": [
           "https://en.wikipedia.org/wiki/Lifestyle_(sociology)",
           "https://en.wikipedia.org/wiki/Hobby"
          ],
          "topicIds": [
           "/m/019_rr",
           "/m/03glg"
          ]
         }
        },
        {
         "contentDetails": {
          "relatedPlaylists": {
           "likes": "",
           "uploads": "UUG8rbF3g2AMX70yOd8vqIZg"
          }
         },
         "etag": "Yp9tj_hUwI9RYM-2E60bRQVra8E",
         "id": "UCG8rbF3g2AMX70yOd8vqIZg",
         "kind": "youtube#channel",
         "snippet": {
          "country": "US",
          "customUrl": "@loganpaulvlogs",
          "description": "27 year old in Puerto Rico living life to the fullest or whatever\nJoin the movement and Be A Maverick: https://shoploganpaul.com/",
          "localized": {
           "description": "27 year old in Puerto Rico living life to the fullest or whatever\nJoin the movement and Be A Maverick: https://shoploganpaul.com/",
           "title": "Logan Paul"
          },
          "publishedAt": "2015-08-29T03:28:33Z",
          "thumbnails": {
           "default": {
            "height": 88,
            "url": "https://yt3.ggpht.com/ytc/AGIKgqMAOREwCUfV7Xx-CukeuM2vdWc3W27gUgK4R7NUWg=s88-c-k-c0x00ffffff-no-rj",
            "width": 88
           },
           "high": {
            "height": 800,
            "url": "https://yt3.ggpht.com/ytc/AGIKgqMAOREwCUfV7Xx-CukeuM2vdWc3W27gUgK4R7NUWg=s800-c-k-c0x00ffffff-no-rj",
            "width": 800
           },
           "medium": {
            "height": 240,
            "url": "https://yt3.ggpht.com/ytc/AGIKgqMAOREwCUfV7Xx-CukeuM2vdWc3W27gUgK4R7NUWg=s240-c-k-c0x00ffffff-no-rj",
            "width": 240
           }
          },
          "title": "Logan Paul"
         },
         "statistics": {
          "hiddenSubscriberCount": false,
          "subscriberCount": "23600000",
          "videoCount": "718",
          "viewCount": "5972451029"
         },
         "status": {
          "isLinked": true,
          "longUploadsStatus": "longUploadsUnspecified",
          "madeForKids": false,
          "privacyStatus": "public"
         },
         "topicDetails": {
          "topicCategories": [
           "https://en.wikipedia.org/wiki/Lifestyle_(sociology)",
           "https://en.wikipedia.org/wiki/Entertainment"
          ],
          "topicIds": [
           "/m/019_rr",
           "/m/02jjt"
          ]
         }
        }
       ],
       "kind": "youtube#channelListResponse",
       "pageInfo": {
        "resultsPerPage": 5,
        "totalResults": 3
       }
      },
      "text/plain": [
       "<IPython.core.display.JSON object>"
      ]
     },
     "execution_count": 16,
     "metadata": {
      "application/json": {
       "expanded": false,
       "root": "root"
      }
     },
     "output_type": "execute_result"
    }
   ],
   "source": [
    "JSON(response)"
   ]
  },
  {
   "cell_type": "code",
   "execution_count": 17,
   "id": "0e9b26ad-9f99-4f47-ab59-2b2ba6f9f0ce",
   "metadata": {},
   "outputs": [],
   "source": [
    "def get_channel_data(youtube, channel_ids):\n",
    "    \n",
    "    request = youtube.channels().list(\n",
    "        part=\"snippet,contentDetails,statistics,topicDetails,status\",\n",
    "        id=','.join(channel_ids)\n",
    "    )\n",
    "    response = request.execute()\n",
    "    \n",
    "    all_data = []\n",
    "    \n",
    "    for i in range(len(channel_ids)):\n",
    "    \n",
    "        channel = response['items'][i]\n",
    "\n",
    "        channel_data = {\n",
    "            'channel_id': channel['id'],\n",
    "            'channel_name': channel['snippet']['title'],\n",
    "            'channel_desc': channel['snippet']['description'],\n",
    "            'channel_start_date': channel['snippet']['publishedAt'],\n",
    "            'total_views': channel['statistics']['viewCount'],\n",
    "            'total_subscribers': channel['statistics']['subscriberCount'],\n",
    "            'total_videos_posted': channel['statistics']['videoCount']\n",
    "        }\n",
    "        \n",
    "        try:\n",
    "            channel_data['channel_topic'] = channel['topicDetails']['topicCategories']\n",
    "        except:\n",
    "            channel_data['channel_topic'] = None\n",
    "        \n",
    "        all_data.append(channel_data)\n",
    "        \n",
    "    return pd.DataFrame(all_data)\n",
    "        "
   ]
  },
  {
   "cell_type": "code",
   "execution_count": 18,
   "id": "a43468ea-1bae-4e3f-bbeb-4ddbffd6dc03",
   "metadata": {},
   "outputs": [
    {
     "data": {
      "text/html": [
       "<div>\n",
       "<style scoped>\n",
       "    .dataframe tbody tr th:only-of-type {\n",
       "        vertical-align: middle;\n",
       "    }\n",
       "\n",
       "    .dataframe tbody tr th {\n",
       "        vertical-align: top;\n",
       "    }\n",
       "\n",
       "    .dataframe thead th {\n",
       "        text-align: right;\n",
       "    }\n",
       "</style>\n",
       "<table border=\"1\" class=\"dataframe\">\n",
       "  <thead>\n",
       "    <tr style=\"text-align: right;\">\n",
       "      <th></th>\n",
       "      <th>channel_id</th>\n",
       "      <th>channel_name</th>\n",
       "      <th>channel_desc</th>\n",
       "      <th>channel_start_date</th>\n",
       "      <th>total_views</th>\n",
       "      <th>total_subscribers</th>\n",
       "      <th>total_videos_posted</th>\n",
       "      <th>channel_topic</th>\n",
       "    </tr>\n",
       "  </thead>\n",
       "  <tbody>\n",
       "    <tr>\n",
       "      <th>0</th>\n",
       "      <td>UCLhvu_-py2eiC_yD17WLLNg</td>\n",
       "      <td>Heidi Zidane and Zack</td>\n",
       "      <td>Welcome to Heidi Zidane and Zack Youtube Chann...</td>\n",
       "      <td>2018-03-23T14:32:26Z</td>\n",
       "      <td>203726997</td>\n",
       "      <td>1360000</td>\n",
       "      <td>373</td>\n",
       "      <td>[https://en.wikipedia.org/wiki/Lifestyle_(soci...</td>\n",
       "    </tr>\n",
       "    <tr>\n",
       "      <th>1</th>\n",
       "      <td>UCAgx4HcQIYn9lM0rhtIuH9w</td>\n",
       "      <td>Heidi and Zidane HZHtube</td>\n",
       "      <td></td>\n",
       "      <td>2015-11-24T19:25:04Z</td>\n",
       "      <td>3998110674</td>\n",
       "      <td>12400000</td>\n",
       "      <td>750</td>\n",
       "      <td>[https://en.wikipedia.org/wiki/Lifestyle_(soci...</td>\n",
       "    </tr>\n",
       "    <tr>\n",
       "      <th>2</th>\n",
       "      <td>UCG8rbF3g2AMX70yOd8vqIZg</td>\n",
       "      <td>Logan Paul</td>\n",
       "      <td>27 year old in Puerto Rico living life to the ...</td>\n",
       "      <td>2015-08-29T03:28:33Z</td>\n",
       "      <td>5972451029</td>\n",
       "      <td>23600000</td>\n",
       "      <td>718</td>\n",
       "      <td>[https://en.wikipedia.org/wiki/Lifestyle_(soci...</td>\n",
       "    </tr>\n",
       "  </tbody>\n",
       "</table>\n",
       "</div>"
      ],
      "text/plain": [
       "                 channel_id              channel_name  \\\n",
       "0  UCLhvu_-py2eiC_yD17WLLNg     Heidi Zidane and Zack   \n",
       "1  UCAgx4HcQIYn9lM0rhtIuH9w  Heidi and Zidane HZHtube   \n",
       "2  UCG8rbF3g2AMX70yOd8vqIZg                Logan Paul   \n",
       "\n",
       "                                        channel_desc    channel_start_date  \\\n",
       "0  Welcome to Heidi Zidane and Zack Youtube Chann...  2018-03-23T14:32:26Z   \n",
       "1                                                     2015-11-24T19:25:04Z   \n",
       "2  27 year old in Puerto Rico living life to the ...  2015-08-29T03:28:33Z   \n",
       "\n",
       "  total_views total_subscribers total_videos_posted  \\\n",
       "0   203726997           1360000                 373   \n",
       "1  3998110674          12400000                 750   \n",
       "2  5972451029          23600000                 718   \n",
       "\n",
       "                                       channel_topic  \n",
       "0  [https://en.wikipedia.org/wiki/Lifestyle_(soci...  \n",
       "1  [https://en.wikipedia.org/wiki/Lifestyle_(soci...  \n",
       "2  [https://en.wikipedia.org/wiki/Lifestyle_(soci...  "
      ]
     },
     "execution_count": 18,
     "metadata": {},
     "output_type": "execute_result"
    }
   ],
   "source": [
    "get_channel_data(youtube, channel_ids)"
   ]
  },
  {
   "cell_type": "markdown",
   "id": "534ec55b-cc9b-4601-916d-124e9f90071b",
   "metadata": {},
   "source": [
    "### Most Popular Videos"
   ]
  },
  {
   "cell_type": "code",
   "execution_count": 24,
   "id": "bf7a7738-aa49-42ef-b7b5-ff3849a5c8fb",
   "metadata": {},
   "outputs": [],
   "source": [
    "def get_most_popular_videos(youtube):\n",
    "    \n",
    "    request = youtube.videos().list(\n",
    "        part=\"snippet,contentDetails,status,statistics,topicDetails\",\n",
    "        chart=\"mostPopular\",\n",
    "        regionCode=\"US\",\n",
    "        maxResults = 50\n",
    "    )\n",
    "    response = request.execute()\n",
    "\n",
    "    all_data = []\n",
    "\n",
    "    for i in range(50):\n",
    "        video = response['items'][i]\n",
    "\n",
    "        video_data = {\n",
    "            'video_id': video['id'],\n",
    "            'channel_id': video['snippet']['channelId'],\n",
    "            'video_posting_date': video['snippet']['publishedAt'],\n",
    "            'video_title': video['snippet']['title'],\n",
    "            'video_desc': video['snippet']['description'],\n",
    "            'video_length': video['contentDetails']['duration'],\n",
    "            'made_for_kids': video['status']['madeForKids'],\n",
    "            'video_views': video['statistics']['viewCount'],\n",
    "            'video_comments': video['statistics']['commentCount']\n",
    "        }\n",
    "\n",
    "        try:\n",
    "            video_data['video_topic'] = video['topicDetails']['topicCategories']\n",
    "            video_data['video_likes'] = video['statistics']['likeCount']\n",
    "        except:\n",
    "            video_data['video_topic'] = None\n",
    "            video_data['video_likes'] = None\n",
    "        all_data.append(video_data)\n",
    "    \n",
    "    return pd.DataFrame(all_data).sort_values(by='video_posting_date', ascending=False)"
   ]
  },
  {
   "cell_type": "code",
   "execution_count": 25,
   "id": "127d0e52-03d7-41af-95bb-33c751611e3b",
   "metadata": {},
   "outputs": [
    {
     "data": {
      "text/html": [
       "<div>\n",
       "<style scoped>\n",
       "    .dataframe tbody tr th:only-of-type {\n",
       "        vertical-align: middle;\n",
       "    }\n",
       "\n",
       "    .dataframe tbody tr th {\n",
       "        vertical-align: top;\n",
       "    }\n",
       "\n",
       "    .dataframe thead th {\n",
       "        text-align: right;\n",
       "    }\n",
       "</style>\n",
       "<table border=\"1\" class=\"dataframe\">\n",
       "  <thead>\n",
       "    <tr style=\"text-align: right;\">\n",
       "      <th></th>\n",
       "      <th>video_id</th>\n",
       "      <th>channel_id</th>\n",
       "      <th>video_posting_date</th>\n",
       "      <th>video_title</th>\n",
       "      <th>video_desc</th>\n",
       "      <th>video_length</th>\n",
       "      <th>made_for_kids</th>\n",
       "      <th>video_views</th>\n",
       "      <th>video_comments</th>\n",
       "      <th>video_topic</th>\n",
       "      <th>video_likes</th>\n",
       "    </tr>\n",
       "  </thead>\n",
       "  <tbody>\n",
       "    <tr>\n",
       "      <th>15</th>\n",
       "      <td>beSIRUJPEjo</td>\n",
       "      <td>UCv3Kk__aFcKKx_o2686uQcw</td>\n",
       "      <td>2023-04-27T16:00:07Z</td>\n",
       "      <td>\"Blue Lies\" | Clock 0ut Animation</td>\n",
       "      <td>Hi! This one's a bit shorter than the other tw...</td>\n",
       "      <td>PT1M17S</td>\n",
       "      <td>False</td>\n",
       "      <td>162995</td>\n",
       "      <td>1842</td>\n",
       "      <td>[https://en.wikipedia.org/wiki/Music]</td>\n",
       "      <td>49593</td>\n",
       "    </tr>\n",
       "    <tr>\n",
       "      <th>8</th>\n",
       "      <td>gSDtNkKPiDg</td>\n",
       "      <td>UCp68_FLety0O-n9QU6phsgw</td>\n",
       "      <td>2023-04-27T15:00:34Z</td>\n",
       "      <td>The WEIGHTLESS Machine</td>\n",
       "      <td>New to Warframe? You can play The Duviri Parad...</td>\n",
       "      <td>PT10M13S</td>\n",
       "      <td>False</td>\n",
       "      <td>779550</td>\n",
       "      <td>4256</td>\n",
       "      <td>None</td>\n",
       "      <td>None</td>\n",
       "    </tr>\n",
       "    <tr>\n",
       "      <th>27</th>\n",
       "      <td>aOTz0Ol8fLA</td>\n",
       "      <td>UCNSMdQtn1SuFzCZjfK2C7dQ</td>\n",
       "      <td>2023-04-27T15:00:01Z</td>\n",
       "      <td>The Pros and Cons of Every Motorcycle Engine Type</td>\n",
       "      <td>Get a quote on pay-per-mile motorcycle insuran...</td>\n",
       "      <td>PT15M23S</td>\n",
       "      <td>False</td>\n",
       "      <td>181254</td>\n",
       "      <td>2252</td>\n",
       "      <td>[https://en.wikipedia.org/wiki/Lifestyle_(soci...</td>\n",
       "      <td>26961</td>\n",
       "    </tr>\n",
       "    <tr>\n",
       "      <th>3</th>\n",
       "      <td>6emgiatRGu4</td>\n",
       "      <td>UCaO6TYtlC8U5ttz62hTrZgg</td>\n",
       "      <td>2023-04-27T14:59:59Z</td>\n",
       "      <td>Stray Kids \"★★★★★ (5-STAR)\" Trailer</td>\n",
       "      <td>Stray Kids(스트레이 키즈) \"★★★★★ (5-STAR)\" Trailer\\n...</td>\n",
       "      <td>PT2M51S</td>\n",
       "      <td>False</td>\n",
       "      <td>1707947</td>\n",
       "      <td>34463</td>\n",
       "      <td>[https://en.wikipedia.org/wiki/Entertainment, ...</td>\n",
       "      <td>488706</td>\n",
       "    </tr>\n",
       "    <tr>\n",
       "      <th>4</th>\n",
       "      <td>SlSfr6Wa5sc</td>\n",
       "      <td>UC_ntXHv-XdKCD7CPynVvnQw</td>\n",
       "      <td>2023-04-27T14:00:14Z</td>\n",
       "      <td>ARMORED CORE VI FIRES OF RUBICON — Gameplay Tr...</td>\n",
       "      <td>\"Augmented human C4-621 has awakened.\"\\n\\nARMO...</td>\n",
       "      <td>PT3M7S</td>\n",
       "      <td>False</td>\n",
       "      <td>461503</td>\n",
       "      <td>2972</td>\n",
       "      <td>[https://en.wikipedia.org/wiki/Action-adventur...</td>\n",
       "      <td>31380</td>\n",
       "    </tr>\n",
       "  </tbody>\n",
       "</table>\n",
       "</div>"
      ],
      "text/plain": [
       "       video_id                channel_id    video_posting_date  \\\n",
       "15  beSIRUJPEjo  UCv3Kk__aFcKKx_o2686uQcw  2023-04-27T16:00:07Z   \n",
       "8   gSDtNkKPiDg  UCp68_FLety0O-n9QU6phsgw  2023-04-27T15:00:34Z   \n",
       "27  aOTz0Ol8fLA  UCNSMdQtn1SuFzCZjfK2C7dQ  2023-04-27T15:00:01Z   \n",
       "3   6emgiatRGu4  UCaO6TYtlC8U5ttz62hTrZgg  2023-04-27T14:59:59Z   \n",
       "4   SlSfr6Wa5sc  UC_ntXHv-XdKCD7CPynVvnQw  2023-04-27T14:00:14Z   \n",
       "\n",
       "                                          video_title  \\\n",
       "15                  \"Blue Lies\" | Clock 0ut Animation   \n",
       "8                              The WEIGHTLESS Machine   \n",
       "27  The Pros and Cons of Every Motorcycle Engine Type   \n",
       "3                 Stray Kids \"★★★★★ (5-STAR)\" Trailer   \n",
       "4   ARMORED CORE VI FIRES OF RUBICON — Gameplay Tr...   \n",
       "\n",
       "                                           video_desc video_length  \\\n",
       "15  Hi! This one's a bit shorter than the other tw...      PT1M17S   \n",
       "8   New to Warframe? You can play The Duviri Parad...     PT10M13S   \n",
       "27  Get a quote on pay-per-mile motorcycle insuran...     PT15M23S   \n",
       "3   Stray Kids(스트레이 키즈) \"★★★★★ (5-STAR)\" Trailer\\n...      PT2M51S   \n",
       "4   \"Augmented human C4-621 has awakened.\"\\n\\nARMO...       PT3M7S   \n",
       "\n",
       "    made_for_kids video_views video_comments  \\\n",
       "15          False      162995           1842   \n",
       "8           False      779550           4256   \n",
       "27          False      181254           2252   \n",
       "3           False     1707947          34463   \n",
       "4           False      461503           2972   \n",
       "\n",
       "                                          video_topic video_likes  \n",
       "15              [https://en.wikipedia.org/wiki/Music]       49593  \n",
       "8                                                None        None  \n",
       "27  [https://en.wikipedia.org/wiki/Lifestyle_(soci...       26961  \n",
       "3   [https://en.wikipedia.org/wiki/Entertainment, ...      488706  \n",
       "4   [https://en.wikipedia.org/wiki/Action-adventur...       31380  "
      ]
     },
     "execution_count": 25,
     "metadata": {},
     "output_type": "execute_result"
    }
   ],
   "source": [
    "popular_videos = get_most_popular_videos(youtube)\n",
    "popular_videos.head()"
   ]
  },
  {
   "cell_type": "code",
   "execution_count": null,
   "id": "1f31ad2a-3f46-493c-a8c2-4168bda93ef3",
   "metadata": {},
   "outputs": [],
   "source": []
  }
 ],
 "metadata": {
  "kernelspec": {
   "display_name": "Python 3 (ipykernel)",
   "language": "python",
   "name": "python3"
  },
  "language_info": {
   "codemirror_mode": {
    "name": "ipython",
    "version": 3
   },
   "file_extension": ".py",
   "mimetype": "text/x-python",
   "name": "python",
   "nbconvert_exporter": "python",
   "pygments_lexer": "ipython3",
   "version": "3.10.9"
  }
 },
 "nbformat": 4,
 "nbformat_minor": 5
}
