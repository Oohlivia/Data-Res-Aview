{
 "cells": [
  {
   "cell_type": "markdown",
   "id": "5a6414ab",
   "metadata": {},
   "source": [
    "## Getting Started with the Youtube API \n",
    "- This template will help you get the title, published date, description, tags, view count, dislike count, and comment count of all uploads for a creator\n",
    "- The functions are stored in sam_api_fun.py\n",
    "- If you changed the list of IDs (playlist_id) you could add more than one creators videos\n",
    "- Results in a data frame "
   ]
  },
  {
   "cell_type": "markdown",
   "id": "f6163039",
   "metadata": {},
   "source": [
    "### A. Setting up\n",
    "1. Create an api_key\n",
    "   - tutorial: https://blog.hubspot.com/website/how-to-get-youtube-api-key  \n",
    "   \n",
    "2. Install python client"
   ]
  },
  {
   "cell_type": "code",
   "execution_count": 1,
   "id": "8bb03197",
   "metadata": {},
   "outputs": [],
   "source": [
    "# set variable to api key in str\n",
    "api_key = \"\""
   ]
  },
  {
   "cell_type": "code",
   "execution_count": 2,
   "id": "748cf26f",
   "metadata": {},
   "outputs": [],
   "source": [
    "from googleapiclient.discovery import build\n",
    "youtube = build(\"youtube\",\"v3\",developerKey=api_key)"
   ]
  },
  {
   "cell_type": "code",
   "execution_count": 3,
   "id": "c469420c",
   "metadata": {},
   "outputs": [
    {
     "name": "stdout",
     "output_type": "stream",
     "text": [
      "Requirement already satisfied: google-api-python-client in /opt/anaconda3/lib/python3.9/site-packages (2.73.0)\n",
      "Collecting google-api-python-client\n",
      "  Using cached google_api_python_client-2.74.0-py2.py3-none-any.whl (10.9 MB)\n",
      "Requirement already satisfied: google-auth-httplib2 in /opt/anaconda3/lib/python3.9/site-packages (0.1.0)\n",
      "Requirement already satisfied: google-auth-oauthlib in /opt/anaconda3/lib/python3.9/site-packages (0.8.0)\n",
      "Requirement already satisfied: google-auth<3.0.0dev,>=1.19.0 in /opt/anaconda3/lib/python3.9/site-packages (from google-api-python-client) (2.16.0)\n",
      "Requirement already satisfied: google-api-core!=2.0.*,!=2.1.*,!=2.2.*,!=2.3.0,<3.0.0dev,>=1.31.5 in /opt/anaconda3/lib/python3.9/site-packages (from google-api-python-client) (2.11.0)\n",
      "Requirement already satisfied: uritemplate<5,>=3.0.1 in /opt/anaconda3/lib/python3.9/site-packages (from google-api-python-client) (4.1.1)\n",
      "Requirement already satisfied: httplib2<1dev,>=0.15.0 in /opt/anaconda3/lib/python3.9/site-packages (from google-api-python-client) (0.21.0)\n",
      "Requirement already satisfied: six in /opt/anaconda3/lib/python3.9/site-packages (from google-auth-httplib2) (1.16.0)\n",
      "Requirement already satisfied: requests-oauthlib>=0.7.0 in /opt/anaconda3/lib/python3.9/site-packages (from google-auth-oauthlib) (1.3.1)\n",
      "Requirement already satisfied: requests<3.0.0dev,>=2.18.0 in /opt/anaconda3/lib/python3.9/site-packages (from google-api-core!=2.0.*,!=2.1.*,!=2.2.*,!=2.3.0,<3.0.0dev,>=1.31.5->google-api-python-client) (2.26.0)\n",
      "Requirement already satisfied: googleapis-common-protos<2.0dev,>=1.56.2 in /opt/anaconda3/lib/python3.9/site-packages (from google-api-core!=2.0.*,!=2.1.*,!=2.2.*,!=2.3.0,<3.0.0dev,>=1.31.5->google-api-python-client) (1.58.0)\n",
      "Requirement already satisfied: protobuf!=3.20.0,!=3.20.1,!=4.21.0,!=4.21.1,!=4.21.2,!=4.21.3,!=4.21.4,!=4.21.5,<5.0.0dev,>=3.19.5 in /opt/anaconda3/lib/python3.9/site-packages (from google-api-core!=2.0.*,!=2.1.*,!=2.2.*,!=2.3.0,<3.0.0dev,>=1.31.5->google-api-python-client) (4.21.12)\n",
      "Requirement already satisfied: rsa<5,>=3.1.4 in /opt/anaconda3/lib/python3.9/site-packages (from google-auth<3.0.0dev,>=1.19.0->google-api-python-client) (4.9)\n",
      "Requirement already satisfied: cachetools<6.0,>=2.0.0 in /opt/anaconda3/lib/python3.9/site-packages (from google-auth<3.0.0dev,>=1.19.0->google-api-python-client) (5.3.0)\n",
      "Requirement already satisfied: pyasn1-modules>=0.2.1 in /opt/anaconda3/lib/python3.9/site-packages (from google-auth<3.0.0dev,>=1.19.0->google-api-python-client) (0.2.8)\n",
      "Requirement already satisfied: pyparsing!=3.0.0,!=3.0.1,!=3.0.2,!=3.0.3,<4,>=2.4.2 in /opt/anaconda3/lib/python3.9/site-packages (from httplib2<1dev,>=0.15.0->google-api-python-client) (3.0.4)\n",
      "Requirement already satisfied: oauthlib>=3.0.0 in /opt/anaconda3/lib/python3.9/site-packages (from requests-oauthlib>=0.7.0->google-auth-oauthlib) (3.2.2)\n",
      "Requirement already satisfied: pyasn1<0.5.0,>=0.4.6 in /opt/anaconda3/lib/python3.9/site-packages (from pyasn1-modules>=0.2.1->google-auth<3.0.0dev,>=1.19.0->google-api-python-client) (0.4.8)\n",
      "Requirement already satisfied: idna<4,>=2.5 in /opt/anaconda3/lib/python3.9/site-packages (from requests<3.0.0dev,>=2.18.0->google-api-core!=2.0.*,!=2.1.*,!=2.2.*,!=2.3.0,<3.0.0dev,>=1.31.5->google-api-python-client) (3.2)\n",
      "Requirement already satisfied: urllib3<1.27,>=1.21.1 in /opt/anaconda3/lib/python3.9/site-packages (from requests<3.0.0dev,>=2.18.0->google-api-core!=2.0.*,!=2.1.*,!=2.2.*,!=2.3.0,<3.0.0dev,>=1.31.5->google-api-python-client) (1.26.7)\n",
      "Requirement already satisfied: certifi>=2017.4.17 in /opt/anaconda3/lib/python3.9/site-packages (from requests<3.0.0dev,>=2.18.0->google-api-core!=2.0.*,!=2.1.*,!=2.2.*,!=2.3.0,<3.0.0dev,>=1.31.5->google-api-python-client) (2021.10.8)\n",
      "Requirement already satisfied: charset-normalizer~=2.0.0 in /opt/anaconda3/lib/python3.9/site-packages (from requests<3.0.0dev,>=2.18.0->google-api-core!=2.0.*,!=2.1.*,!=2.2.*,!=2.3.0,<3.0.0dev,>=1.31.5->google-api-python-client) (2.0.4)\n",
      "Installing collected packages: google-api-python-client\n",
      "  Attempting uninstall: google-api-python-client\n",
      "    Found existing installation: google-api-python-client 2.73.0\n",
      "    Uninstalling google-api-python-client-2.73.0:\n",
      "\u001b[31mERROR: Could not install packages due to an OSError: Cannot move the non-empty directory '/opt/anaconda3/lib/python3.9/site-packages/apiclient/': Lacking write permission to '/opt/anaconda3/lib/python3.9/site-packages/apiclient/'.\n",
      "\u001b[0m\u001b[31m\n",
      "\u001b[0m\n",
      "\u001b[1m[\u001b[0m\u001b[34;49mnotice\u001b[0m\u001b[1;39;49m]\u001b[0m\u001b[39;49m A new release of pip available: \u001b[0m\u001b[31;49m22.2.2\u001b[0m\u001b[39;49m -> \u001b[0m\u001b[32;49m22.3.1\u001b[0m\n",
      "\u001b[1m[\u001b[0m\u001b[34;49mnotice\u001b[0m\u001b[1;39;49m]\u001b[0m\u001b[39;49m To update, run: \u001b[0m\u001b[32;49mpip install --upgrade pip\u001b[0m\n"
     ]
    }
   ],
   "source": [
    "!pip install --upgrade google-api-python-client google-auth-httplib2 google-auth-oauthlib\n",
    "\n"
   ]
  },
  {
   "cell_type": "code",
   "execution_count": 4,
   "id": "0bca7bcf",
   "metadata": {},
   "outputs": [],
   "source": [
    "import pandas as pd\n",
    "from sam_api_fun import *"
   ]
  },
  {
   "cell_type": "markdown",
   "id": "8ed5f30c",
   "metadata": {},
   "source": [
    "### B. Grab Channel ID\n",
    " 1. Go to their Youtube Page\n",
    " 2. Right click and hit view page sources\n",
    " 3. Command_F browse_id, ID is stored in value key next to it (ex. Bon Appetit's is UCbpMy0Fg74eXXkvxJrtEn3w)\n",
    " "
   ]
  },
  {
   "cell_type": "code",
   "execution_count": 5,
   "id": "81becb0a",
   "metadata": {},
   "outputs": [],
   "source": [
    "# pick one channel, put ID in string\n",
    "channel_id = \"UCbpMy0Fg74eXXkvxJrtEn3w\""
   ]
  },
  {
   "cell_type": "markdown",
   "id": "fe4e2b70",
   "metadata": {},
   "source": [
    "### C. Get basic channel stats\n",
    "- view count, subscriber count, video count"
   ]
  },
  {
   "cell_type": "code",
   "execution_count": 6,
   "id": "7567f021",
   "metadata": {},
   "outputs": [
    {
     "data": {
      "text/plain": [
       "{'viewCount': '1704009911',\n",
       " 'subscriberCount': '6200000',\n",
       " 'hiddenSubscriberCount': False,\n",
       " 'videoCount': '1408'}"
      ]
     },
     "execution_count": 6,
     "metadata": {},
     "output_type": "execute_result"
    }
   ],
   "source": [
    "# copy into JSON formatter wesbite to get a more readable version\n",
    "# https://jsonformatter.curiousconcept.com/#\n",
    "# items has the most important info on stats\n",
    "channel_stats = get_channel_stats(youtube,channel_id)\n",
    "\n",
    "#list of 1, so need index [0]\n",
    "channel_stats[0][\"statistics\"]\n"
   ]
  },
  {
   "cell_type": "markdown",
   "id": "0a178bdb",
   "metadata": {},
   "source": [
    "### D. Get the ID of the playlist containing all uploads"
   ]
  },
  {
   "cell_type": "code",
   "execution_count": 7,
   "id": "e5553f59",
   "metadata": {},
   "outputs": [],
   "source": [
    "# 0 index because there is only one channel because we used unique channel id\n",
    "# finds playlist of all uploads\n",
    "playlist_id = channel_stats[0][\"contentDetails\"][\"relatedPlaylists\"][\"uploads\"]\n"
   ]
  },
  {
   "cell_type": "markdown",
   "id": "0d1bb173",
   "metadata": {},
   "source": [
    "### E. Get all the IDs for each video"
   ]
  },
  {
   "cell_type": "code",
   "execution_count": 8,
   "id": "303cafce",
   "metadata": {},
   "outputs": [],
   "source": [
    "#all unique IDs of all creator's videos\n",
    "video_list = get_video_list(youtube,playlist_id)"
   ]
  },
  {
   "cell_type": "markdown",
   "id": "1b6061e5",
   "metadata": {},
   "source": [
    "### F. Use IDs to grab data for each video"
   ]
  },
  {
   "cell_type": "code",
   "execution_count": 10,
   "id": "51ed0037",
   "metadata": {},
   "outputs": [],
   "source": [
    "video_data = get_video_details(youtube, video_list)"
   ]
  },
  {
   "cell_type": "markdown",
   "id": "91346419",
   "metadata": {},
   "source": [
    "### G. Put into data frame"
   ]
  },
  {
   "cell_type": "code",
   "execution_count": 11,
   "id": "83bc40c4",
   "metadata": {},
   "outputs": [],
   "source": [
    "df = pd.DataFrame(video_data)"
   ]
  }
 ],
 "metadata": {
  "kernelspec": {
   "display_name": "Python 3 (ipykernel)",
   "language": "python",
   "name": "python3"
  },
  "language_info": {
   "codemirror_mode": {
    "name": "ipython",
    "version": 3
   },
   "file_extension": ".py",
   "mimetype": "text/x-python",
   "name": "python",
   "nbconvert_exporter": "python",
   "pygments_lexer": "ipython3",
   "version": "3.9.7"
  }
 },
 "nbformat": 4,
 "nbformat_minor": 5
}
