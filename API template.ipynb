{
 "cells": [
  {
   "cell_type": "markdown",
   "id": "5a6414ab",
   "metadata": {},
   "source": [
    "## Getting Started with the Youtube API \n",
    "- This template will help you get the title, published date, description, tags, view count, dislike count, and comment count of all uploads for a creator\n",
    "- The functions are stored in sam_api_fun.py\n",
    "- If you changed the list of IDs (playlist_id) you could add more than one creators videos\n",
    "- Results in a data frame "
   ]
  },
  {
   "cell_type": "markdown",
   "id": "f6163039",
   "metadata": {},
   "source": [
    "### A. Setting up\n",
    "1. Create an api_key\n",
    "   - tutorial: https://blog.hubspot.com/website/how-to-get-youtube-api-key  \n",
    "   \n",
    "2. Install python client"
   ]
  },
  {
   "cell_type": "code",
   "execution_count": null,
   "id": "8bb03197",
   "metadata": {},
   "outputs": [],
   "source": [
    "# set variable to api key in str\n",
    "api_key = \"\""
   ]
  },
  {
   "cell_type": "code",
   "execution_count": null,
   "id": "748cf26f",
   "metadata": {},
   "outputs": [],
   "source": [
    "from googleapiclient.discovery import build\n",
    "youtube = build(\"youtube\",\"v3\",developerKey=api_key)"
   ]
  },
  {
   "cell_type": "code",
   "execution_count": null,
   "id": "c469420c",
   "metadata": {},
   "outputs": [],
   "source": [
    "!pip install --upgrade google-api-python-client google-auth-httplib2 google-auth-oauthlib\n",
    "\n"
   ]
  },
  {
   "cell_type": "code",
   "execution_count": null,
   "id": "0bca7bcf",
   "metadata": {},
   "outputs": [],
   "source": [
    "import pandas as pd\n",
    "from sam_api_fun import *"
   ]
  },
  {
   "cell_type": "markdown",
   "id": "8ed5f30c",
   "metadata": {},
   "source": [
    "### B. Grab Channel ID\n",
    " 1. Go to their Youtube Page\n",
    " 2. Right click and hit view page sources\n",
    " 3. Command_F browse_id, ID is stored in value key next to it (ex. Bon Appetit's is UCbpMy0Fg74eXXkvxJrtEn3w)\n",
    " "
   ]
  },
  {
   "cell_type": "code",
   "execution_count": null,
   "id": "81becb0a",
   "metadata": {},
   "outputs": [],
   "source": [
    "# pick one channel, put ID in string\n",
    "channel_id = \"UCbpMy0Fg74eXXkvxJrtEn3w\""
   ]
  },
  {
   "cell_type": "markdown",
   "id": "fe4e2b70",
   "metadata": {},
   "source": [
    "### C. Get basic channel stats\n",
    "- view count, subscriber count, video count"
   ]
  },
  {
   "cell_type": "code",
   "execution_count": null,
   "id": "7567f021",
   "metadata": {},
   "outputs": [],
   "source": [
    "# copy into JSON formatter wesbite to get a more readable version\n",
    "# https://jsonformatter.curiousconcept.com/#\n",
    "# items has the most important info on stats\n",
    "channel_stats = get_channel_stats(youtube,channel_id)\n",
    "\n",
    "#list of 1, so need index [0]\n",
    "channel_stats[0][\"statistics\"]\n"
   ]
  },
  {
   "cell_type": "markdown",
   "id": "0a178bdb",
   "metadata": {},
   "source": [
    "### D. Get the ID of the playlist containing all uploads"
   ]
  },
  {
   "cell_type": "code",
   "execution_count": null,
   "id": "e5553f59",
   "metadata": {},
   "outputs": [],
   "source": [
    "# 0 index because there is only one channel because we used unique channel id\n",
    "# finds playlist of all uploads\n",
    "playlist_id = channel_stats[0][\"contentDetails\"][\"relatedPlaylists\"][\"uploads\"]\n"
   ]
  },
  {
   "cell_type": "markdown",
   "id": "0d1bb173",
   "metadata": {},
   "source": [
    "### E. Get all the IDs for each video"
   ]
  },
  {
   "cell_type": "code",
   "execution_count": null,
   "id": "303cafce",
   "metadata": {},
   "outputs": [],
   "source": [
    "#all unique IDs of all creator's videos\n",
    "video_list = get_video_list(youtube,playlist_id)"
   ]
  },
  {
   "cell_type": "markdown",
   "id": "1b6061e5",
   "metadata": {},
   "source": [
    "### F. Use IDs to grab data for each video"
   ]
  },
  {
   "cell_type": "code",
   "execution_count": null,
   "id": "51ed0037",
   "metadata": {},
   "outputs": [],
   "source": [
    "#dislike count is apart of code, but might be private now\n",
    "video_data = get_video_details(youtube, video_list)"
   ]
  },
  {
   "cell_type": "markdown",
   "id": "91346419",
   "metadata": {},
   "source": [
    "### G. Put into data frame"
   ]
  },
  {
   "cell_type": "code",
   "execution_count": null,
   "id": "83bc40c4",
   "metadata": {},
   "outputs": [],
   "source": [
    "df = pd.DataFrame(video_data)"
   ]
  },
  {
   "cell_type": "code",
   "execution_count": null,
   "id": "eb4bb3e9",
   "metadata": {},
   "outputs": [],
   "source": [
    "df"
   ]
  }
 ],
 "metadata": {
  "kernelspec": {
   "display_name": "Python 3 (ipykernel)",
   "language": "python",
   "name": "python3"
  },
  "language_info": {
   "codemirror_mode": {
    "name": "ipython",
    "version": 3
   },
   "file_extension": ".py",
   "mimetype": "text/x-python",
   "name": "python",
   "nbconvert_exporter": "python",
   "pygments_lexer": "ipython3",
   "version": "3.9.7"
  }
 },
 "nbformat": 4,
 "nbformat_minor": 5
}
